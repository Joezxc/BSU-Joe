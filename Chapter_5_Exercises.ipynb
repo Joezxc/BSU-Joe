{
  "nbformat": 4,
  "nbformat_minor": 0,
  "metadata": {
    "colab": {
      "provenance": [],
      "authorship_tag": "ABX9TyOuRVMmAqGLRSQ3V3DsERmY",
      "include_colab_link": true
    },
    "kernelspec": {
      "name": "python3",
      "display_name": "Python 3"
    },
    "language_info": {
      "name": "python"
    }
  },
  "cells": [
    {
      "cell_type": "markdown",
      "metadata": {
        "id": "view-in-github",
        "colab_type": "text"
      },
      "source": [
        "<a href=\"https://colab.research.google.com/github/Joezxc/BSU-Joe/blob/main/Chapter_5_Exercises.ipynb\" target=\"_parent\"><img src=\"https://colab.research.google.com/assets/colab-badge.svg\" alt=\"Open In Colab\"/></a>"
      ]
    },
    {
      "cell_type": "code",
      "execution_count": 3,
      "metadata": {
        "colab": {
          "base_uri": "https://localhost:8080/"
        },
        "id": "3CPuMuvY7Ipy",
        "outputId": "d67db497-dc77-4d56-f0e3-30352d8f4756"
      },
      "outputs": [
        {
          "output_type": "stream",
          "name": "stdout",
          "text": [
            "{'First Name': 'Scottie', 'Last Name': 'Barnes', 'Age': '21', 'Place': 'Florida'}\n",
            "Scottie\n",
            "Barnes\n",
            "21\n",
            "Florida\n"
          ]
        }
      ],
      "source": [
        "# Exercise 1\n",
        "person = {'First Name': 'Scottie', 'Last Name': 'Barnes', 'Age':'21', 'Place':'Florida'}\n",
        "\n",
        "print(person)\n",
        "\n",
        "print(person['First Name'])\n",
        "\n",
        "print(person['Last Name'])\n",
        "\n",
        "print(person['Age'])\n",
        "\n",
        "print(person['Place'])"
      ]
    },
    {
      "cell_type": "code",
      "source": [
        "# Exercise 2\n",
        "\n",
        "glossary = {\n",
        "   'strings': 'Sequence of characters, either as a literal constant or as some kind of variable.',\n",
        "  'float': 'A variable type that is used to store floating point number values.',\n",
        "  'print': 'To print objects to the text stream file seperated by sep and followed by the end.',\n",
        "  'if': 'Compound statements contains groups of other statements.',\n",
        "  'else': 'Statement is an alternative statement that is executed if the result of a previous test condition evaluates to false.',\n",
        "}\n",
        "\n",
        "word = 'strings'\n",
        "\n",
        "print(f\"\\n{word.title()}: {glossary[word]}\")\n",
        "\n",
        "word = 'float'\n",
        "\n",
        "print(f\"\\n{word.title()}: {glossary[word]}\")\n",
        "\n",
        "word = 'print'\n",
        "\n",
        "print(f\"\\n{word.title()}: {glossary[word]}\")\n",
        "\n",
        "word = 'if'\n",
        "\n",
        "print(f\"\\n{word.title()}: {glossary[word]}\")\n",
        "\n",
        "word = 'else'\n",
        "\n",
        "print(f\"\\n{word.title()}: {glossary[word]}\")\n"
      ],
      "metadata": {
        "colab": {
          "base_uri": "https://localhost:8080/"
        },
        "id": "82WDjaG88psY",
        "outputId": "5800b7f7-d4be-4862-e680-c5f5350ea882"
      },
      "execution_count": 12,
      "outputs": [
        {
          "output_type": "stream",
          "name": "stdout",
          "text": [
            "\n",
            "Strings: Sequence of characters, either as a literal constant or as some kind of variable.\n",
            "\n",
            "Float: A variable type that is used to store floating point number values.\n",
            "\n",
            "Print: To print objects to the text stream file seperated by sep and followed by the end.\n",
            "\n",
            "If: Compound statements contains groups of other statements.\n",
            "\n",
            "Else: Statement is an alternative statement that is executed if the result of a previous test condition evaluates to false.\n"
          ]
        }
      ]
    },
    {
      "cell_type": "code",
      "source": [
        "# Exercise 3\n",
        "\n",
        "glossary = {\n",
        "  'strings': 'Sequence of characters, either as a literal constant or as some kind of variable.',\n",
        "  'float': 'A variable type that is used to store floating point number values.',\n",
        "  'print': 'To print objects to the text stream file seperated by sep and followed by the end.',\n",
        "  'if': 'Compound statements contains groups of other statements.',\n",
        "  'else': 'Statement is an alternative statement that is executed if the result of a previous test condition evaluates to false.',\n",
        "  'elif': 'Short of else if, used to execute continuous chain of conditional logic ladder.',\n",
        "  'bug': 'A mistake program.',\n",
        "  'functions': 'Way of thinking about software construction by creating pure functions.',\n",
        "  'syntax': 'Grammatical rules of a programming language.',\n",
        "  'value': 'A piece of data that can be contained inside a variable'\n",
        "}\n",
        "\n",
        "for word, definition in glossary.items():\n",
        "        print(f\"\\n{word.title()}: {definition}\")\n"
      ],
      "metadata": {
        "colab": {
          "base_uri": "https://localhost:8080/"
        },
        "id": "H5go66xmE23Z",
        "outputId": "ab1935b8-d8b2-48bb-960e-3ad1d361465f"
      },
      "execution_count": 14,
      "outputs": [
        {
          "output_type": "stream",
          "name": "stdout",
          "text": [
            "\n",
            "Strings: Sequence of characters, either as a literal constant or as some kind of variable.\n",
            "\n",
            "Float: A variable type that is used to store floating point number values.\n",
            "\n",
            "Print: To print objects to the text stream file seperated by sep and followed by the end.\n",
            "\n",
            "If: Compound statements contains groups of other statements.\n",
            "\n",
            "Else: Statement is an alternative statement that is executed if the result of a previous test condition evaluates to false.\n",
            "\n",
            "Elif: Short of else if, used to execute continuous chain of conditional logic ladder.\n",
            "\n",
            "Bug: A mistake program.\n",
            "\n",
            "Functions: Way of thinking about software construction by creating pure functions.\n",
            "\n",
            "Syntax: Grammatical rules of a programming language.\n",
            "\n",
            "Value: A piece of data that can be contained inside a variable\n"
          ]
        }
      ]
    },
    {
      "cell_type": "code",
      "source": [
        "# Exercise 4\n",
        "\n",
        "Rivers = {\n",
        "    ' Nile' : 'India',\n",
        "    ' Amazon' : 'South America',\n",
        "    ' Jordan' : 'Jordan',\n",
        "    ' Danube' : 'Europe',\n",
        "    ' Mekong' : 'China',\n",
        "}\n",
        "\n",
        "for river, country in Rivers.items():\n",
        "    print(f\"The{river.title()} flows through {country.title()}.\")\n",
        "\n",
        "print(\"\\nThe following rivers are included in this data set:\")\n",
        "for river in Rivers.keys():\n",
        "  print(f\"-{river.title()}\")\n",
        "\n",
        "print(\"\\nThe following countries are included in this data set:\")\n",
        "for country in Rivers.values():\n",
        "  print(f\"-{country.title()}\")\n",
        "\n",
        "    "
      ],
      "metadata": {
        "colab": {
          "base_uri": "https://localhost:8080/"
        },
        "id": "YNzkyPr1Iqei",
        "outputId": "17a8b2e1-4b9a-4135-ed3f-5a5c2858bddd"
      },
      "execution_count": 29,
      "outputs": [
        {
          "output_type": "stream",
          "name": "stdout",
          "text": [
            "The Nile flows through India.\n",
            "The Amazon flows through South America.\n",
            "The Jordan flows through Jordan.\n",
            "The Danube flows through Europe.\n",
            "The Mekong flows through China.\n",
            "\n",
            "The following rivers are included in this data set:\n",
            "- Nile\n",
            "- Amazon\n",
            "- Jordan\n",
            "- Danube\n",
            "- Mekong\n",
            "\n",
            "The following countries are included in this data set:\n",
            "-India\n",
            "-South America\n",
            "-Jordan\n",
            "-Europe\n",
            "-China\n"
          ]
        }
      ]
    },
    {
      "cell_type": "code",
      "source": [
        "# Exercise 5\n",
        "\n",
        "pets = []\n",
        "\n",
        "pet = {\n",
        "    'animal type': 'lion',\n",
        "    'name' : 'Kitty',\n",
        "    'owner' : 'Farouq',\n",
        "    'weight' : '185',\n",
        "    'eats' : 'Meat',\n",
        "}\n",
        "pets.append(pet)\n",
        "\n",
        "pet = {\n",
        "    'animal type': 'tiger',\n",
        "    'name' : 'Cookie',\n",
        "    'owner' : 'Ahmed',\n",
        "    'weight' : '250',\n",
        "    'eats' : 'Steak',\n",
        "}\n",
        "pets.append(pet)\n",
        "\n",
        "pet = {\n",
        "    'animal type': 'Alligator',\n",
        "    'name' : 'Ali',\n",
        "    'owner' : 'Hasbulla',\n",
        "    'weight' : '450',\n",
        "    'eats' : 'Whole Chicken',\n",
        "}\n",
        "pets.append(pet)\n",
        "\n",
        "for pet in pets:\n",
        "    print(f\"nHere's what I know about {pet['name'].title()}:\")\n",
        "    for key, value in pet.items():\n",
        "      print(f\"\\t {key}: {value}\")"
      ],
      "metadata": {
        "colab": {
          "base_uri": "https://localhost:8080/"
        },
        "id": "TmjPcqw5Nks9",
        "outputId": "b1a693ce-db8d-4af2-e95e-494cb09a65bd"
      },
      "execution_count": 30,
      "outputs": [
        {
          "output_type": "stream",
          "name": "stdout",
          "text": [
            "nHere's what I know about Kitty:\n",
            "\t animal type: lion\n",
            "\t name: Kitty\n",
            "\t owner: Farouq\n",
            "\t weight: 185\n",
            "\t eats: Meat\n",
            "nHere's what I know about Cookie:\n",
            "\t animal type: tiger\n",
            "\t name: Cookie\n",
            "\t owner: Ahmed\n",
            "\t weight: 250\n",
            "\t eats: Steak\n",
            "nHere's what I know about Ali:\n",
            "\t animal type: Alligator\n",
            "\t name: Ali\n",
            "\t owner: Hasbulla\n",
            "\t weight: 450\n",
            "\t eats: Whole Chicken\n"
          ]
        }
      ]
    }
  ]
}