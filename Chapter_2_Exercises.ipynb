{
  "nbformat": 4,
  "nbformat_minor": 0,
  "metadata": {
    "colab": {
      "provenance": [],
      "authorship_tag": "ABX9TyOGwO9sTTso8gaK9D45cRSM",
      "include_colab_link": true
    },
    "kernelspec": {
      "name": "python3",
      "display_name": "Python 3"
    },
    "language_info": {
      "name": "python"
    }
  },
  "cells": [
    {
      "cell_type": "markdown",
      "metadata": {
        "id": "view-in-github",
        "colab_type": "text"
      },
      "source": [
        "<a href=\"https://colab.research.google.com/github/Joezxc/BSU-Joe/blob/main/Chapter_2_Exercises.ipynb\" target=\"_parent\"><img src=\"https://colab.research.google.com/assets/colab-badge.svg\" alt=\"Open In Colab\"/></a>"
      ]
    },
    {
      "cell_type": "code",
      "source": [
        "#Exercise 1: Variables\n",
        "\n",
        "#Publish a message to a variable\n",
        "a = 'Im your classmate Joe'\n",
        "print(a)\n",
        "\n",
        "#Print the message\n",
        "a = 'Glad to meet you'\n",
        "print(a)"
      ],
      "metadata": {
        "colab": {
          "base_uri": "https://localhost:8080/"
        },
        "id": "gknk1HsU6sns",
        "outputId": "161a4700-7cbc-463a-ddf2-9f3dd9b7c249"
      },
      "execution_count": null,
      "outputs": [
        {
          "output_type": "stream",
          "name": "stdout",
          "text": [
            "Im your classmate Joe\n",
            "Glad to meet you\n"
          ]
        }
      ]
    },
    {
      "cell_type": "code",
      "source": [
        "#Exercise 2: Variables\n",
        "\n",
        "#Select a quote that really touches your heart and assign it to a variable \n",
        "a = 'Bill Keane once said, “Yesterday is history, tomorrow is a mystery, today is a gift of God, which is why we call it the present.”'\n",
        "\n",
        "#Print the message\n",
        "print(a)\n"
      ],
      "metadata": {
        "colab": {
          "base_uri": "https://localhost:8080/"
        },
        "id": "y1c_nBtV7-5e",
        "outputId": "1e6fd753-3e4d-4405-adb9-13ac3d3c41ae"
      },
      "execution_count": null,
      "outputs": [
        {
          "output_type": "stream",
          "name": "stdout",
          "text": [
            "Bill Keane once said, “Yesterday is history, tomorrow is a mystery, today is a gift of God, which is why we call it the present.”\n"
          ]
        }
      ]
    },
    {
      "cell_type": "code",
      "execution_count": 2,
      "metadata": {
        "colab": {
          "base_uri": "https://localhost:8080/"
        },
        "id": "-M7-tzM05uJf",
        "outputId": "48e212be-1f23-4c1e-a2bd-a52564e734f2"
      },
      "outputs": [
        {
          "output_type": "stream",
          "name": "stdout",
          "text": [
            "             Coding\n",
            "Coding\n",
            "Is       the        best\n",
            "Is       the        best\n",
            "     Thing             \n",
            "Thing\n"
          ]
        }
      ],
      "source": [
        "#Exerise 3: Stripping Names\n",
        "\n",
        "#Use word_1.lstrip()\n",
        "word_1 = '             Coding'\n",
        "new_word_1 = word_1.lstrip()\n",
        "print(word_1)\n",
        "print(new_word_1)\n",
        "\n",
        "\n",
        "#Use word_2.rstrip()\n",
        "word_2 = 'Is       the        best'\n",
        "new_word_2 = word_2.rstrip()\n",
        "print(word_2)\n",
        "print(new_word_2)\n",
        "\n",
        "#Use word_3.strip()\n",
        "word_3 = '     Thing             '\n",
        "new_word_3 = word_3.strip()\n",
        "print(word_3)\n",
        "print(new_word_3)\n",
        "\n"
      ]
    },
    {
      "cell_type": "code",
      "source": [
        "#Exercise 4: Favorite Number\n",
        "\n",
        "#Choose your favorite number\n",
        "favoritenumber =18\n",
        "\n",
        "#Print your favorite number\n",
        "print('My favorite number is: 18')"
      ],
      "metadata": {
        "colab": {
          "base_uri": "https://localhost:8080/"
        },
        "id": "0R2cRXLU7-zs",
        "outputId": "e173ed7f-9552-450e-e86c-cfa9f02222e3"
      },
      "execution_count": null,
      "outputs": [
        {
          "output_type": "stream",
          "name": "stdout",
          "text": [
            "My favorite number is: 18\n"
          ]
        }
      ]
    },
    {
      "cell_type": "code",
      "source": [
        "#Exercise 5: USB Shoppe\n",
        "\n",
        "#Create a program that will ask the girl to enter the amount\n",
        "print('Enter the amount available = ') \n",
        "amount = float(input())\n",
        "\n",
        "\n",
        "#Input the amount of USB and how much it cost\n",
        "amount_of_USB = 6  \n",
        "print('A single USB stick costs ' + str(amount_of_USB) + ' dollars.') \n",
        "\n",
        "USBs_bought = amount // amount_of_USB   \n",
        "balance = amount % amount_of_USB\n",
        "\n",
        "#Print the balance and amount\n",
        "print('You have ' + str(amount) + ' dollars and you can buy ' +               \n",
        "      str(USBs_bought) + ' sticks')    \n",
        "print('Balance = ' + str(balance))"
      ],
      "metadata": {
        "colab": {
          "base_uri": "https://localhost:8080/"
        },
        "id": "GwsR_wlH9Uck",
        "outputId": "ae4f4781-f32d-4f7d-9d74-817b486523df"
      },
      "execution_count": null,
      "outputs": [
        {
          "output_type": "stream",
          "name": "stdout",
          "text": [
            "Enter the amount available = \n"
          ]
        }
      ]
    }
  ]
}