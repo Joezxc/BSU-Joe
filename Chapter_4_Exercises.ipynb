{
  "nbformat": 4,
  "nbformat_minor": 0,
  "metadata": {
    "colab": {
      "provenance": [],
      "authorship_tag": "ABX9TyP75bvbPwzkDHiaRMX1VQOQ",
      "include_colab_link": true
    },
    "kernelspec": {
      "name": "python3",
      "display_name": "Python 3"
    },
    "language_info": {
      "name": "python"
    }
  },
  "cells": [
    {
      "cell_type": "markdown",
      "metadata": {
        "id": "view-in-github",
        "colab_type": "text"
      },
      "source": [
        "<a href=\"https://colab.research.google.com/github/Joezxc/BSU-Joe/blob/main/Chapter_4_Exercises.ipynb\" target=\"_parent\"><img src=\"https://colab.research.google.com/assets/colab-badge.svg\" alt=\"Open In Colab\"/></a>"
      ]
    },
    {
      "cell_type": "code",
      "execution_count": null,
      "metadata": {
        "colab": {
          "base_uri": "https://localhost:8080/"
        },
        "id": "CYwU5X60jIiZ",
        "outputId": "1617c4d1-3e3f-40f8-caba-ba01ba18ab0a"
      },
      "outputs": [
        {
          "output_type": "stream",
          "name": "stdout",
          "text": [
            "Congratulations, you have earned 5 points.\n",
            "Congratulations, you have earned 5 points.\n"
          ]
        }
      ],
      "source": [
        "#Exercise 1: Alien Colors #1\n",
        "\n",
        "#Make an alien_color that is color green\n",
        "alien_color = 'green'\n",
        "\n",
        "#Write an if statement and let the users know that they earned 5 points\n",
        "if alien_color == 'green':\n",
        "   print('Congratulations, you have earned 5 points.')\n",
        "\n",
        "alien_color = 'blue'\n",
        "\n",
        "if alien_color == 'blue':\n",
        "   print('Congratulations, you have earned 5 points.')\n"
      ]
    },
    {
      "cell_type": "code",
      "source": [
        "#Exercise 2: Alien Colors #2\n",
        "\n",
        "#Make an alien_color that is color white\n",
        "alien_color = 'white'\n",
        "\n",
        "#Write an if statement that shows the color white will earn 5 points\n",
        "if alien_color == 'white':\n",
        "  print('Congratulations, you have earned 5 points.')  \n",
        "\n",
        "#Write an else statement that shows the color pink will earn 10 points\n",
        "else:\n",
        "  print('Congratulations, you have earned 10 points.') \n",
        "\n",
        "alien_color = 'pink'\n",
        "\n",
        "if alien_color == 'white':\n",
        "  print('Congratulations, you have earned 10 points.')\n",
        "\n",
        "else:\n",
        "  print('Congratulations, you have earned 10 points')\n",
        "  \n"
      ],
      "metadata": {
        "colab": {
          "base_uri": "https://localhost:8080/"
        },
        "id": "2mDmgXzZkKRA",
        "outputId": "a95498a9-0579-4531-e0af-977063998320"
      },
      "execution_count": null,
      "outputs": [
        {
          "output_type": "stream",
          "name": "stdout",
          "text": [
            "Congratulations, you have earned 5 points.\n",
            "Congratulations, you have earned 10 points\n"
          ]
        }
      ]
    },
    {
      "cell_type": "code",
      "source": [
        "#Exercise 3: Alien Colors #3\n",
        "\n",
        "#Make an alien_color that is color blue\n",
        "alien_color = 'blue'\n",
        "\n",
        "#Write an if statement that shows the color white blue earn 5 points\n",
        "if alien_color == 'blue':\n",
        "  print('You have earned 5 points')\n",
        "\n",
        "#Write an elif statement that shows the color white will earn 10 points\n",
        "elif alien_color == 'white':\n",
        "  print('You have earned 10 points')\n",
        "\n",
        "#Write an else statement that shows the color white will earn 15 points\n",
        "else:\n",
        "  print('You have earned 15 points.')\n",
        "\n",
        "alien_color = 'white'\n",
        "\n",
        "if alien_color == 'blue':\n",
        "  print('You have earned 5 points')\n",
        "\n",
        "elif alien_color == 'white':\n",
        "  print('You have earned 10 points')\n",
        "\n",
        "else:\n",
        "  print('You have earned 15 points.')\n",
        "  \n",
        "alien_color = 'brown'\n",
        "\n",
        "if alien_color == 'blue':\n",
        "  print('You have earned 5 points')\n",
        "\n",
        "elif alien_color == 'white':\n",
        "  print('You have earned 10 points')\n",
        "\n",
        "else:\n",
        "  print('You have earned 15 points.')\n",
        "\n",
        "\n",
        "\n"
      ],
      "metadata": {
        "colab": {
          "base_uri": "https://localhost:8080/"
        },
        "id": "X6XMMhJllOWB",
        "outputId": "3da9b6e7-0f84-41df-beb7-cf573d2b462d"
      },
      "execution_count": null,
      "outputs": [
        {
          "output_type": "stream",
          "name": "stdout",
          "text": [
            "You have earned 5 points\n",
            "You have earned 10 points\n",
            "You have earned 15 points.\n"
          ]
        }
      ]
    },
    {
      "cell_type": "code",
      "source": [
        "#Exercise 4: Stages of Life\n",
        "\n",
        "#Make a program that will ask the users what is their age\n",
        "print('Enter your age = ')\n",
        "age = int(input())\n",
        "\n",
        "#If the person is less than 2 years old, print a message that the person is a child\n",
        "if age < 2:\n",
        "  print('You are an child')\n",
        "\n",
        "#If the person is at least 2 years old but less than 4, print a message that the person is a kid\n",
        "elif age == 2 or age < 4:\n",
        "  print('You are a kid')\n",
        "\n",
        "#If the person is at least 13 years old but less than 20, print a message that the person is a teenager.\n",
        "elif age == 13 or age < 20:\n",
        "  print('You are a teenager')\n",
        "\n",
        "#If the person is at least 20 years old but less than 65, print a message that the person is an adult.\n",
        "elif age == 20 or age < 65:\n",
        "  print('You are a adult')\n",
        "\n",
        "#If the person is age 65 or older, print a message that the person is an elder\n",
        "else:\n",
        "    print('You are an elder')"
      ],
      "metadata": {
        "colab": {
          "base_uri": "https://localhost:8080/"
        },
        "id": "ZNqrKEF2m9M7",
        "outputId": "12c8f83f-7ee8-4f2b-a012-6d05c960f175"
      },
      "execution_count": null,
      "outputs": [
        {
          "output_type": "stream",
          "name": "stdout",
          "text": [
            "Enter your age = \n",
            "20\n",
            "You are a adult\n"
          ]
        }
      ]
    },
    {
      "cell_type": "code",
      "source": [
        "#Exercise 5: Favorite Fruit\n",
        "\n",
        "#Create a list of your favorite fruits\n",
        "favorite_fruits = ['banana', 'apple', 'orange']\n",
        "\n",
        "#Print a sentence that shows the user that you really like the fruits\n",
        "if 'banana' in favorite_fruits:\n",
        "    print('Sheesh, you really like bananas.')\n",
        "\n",
        "if 'apple' in favorite_fruits:\n",
        "    print('Sheesh, you really like apples.')\n",
        "\n",
        "if 'orange' in favorite_fruits:\n",
        "    print('Sheesh, you really like oranges.')\n",
        "\n",
        "if 'grape' in favorite_fruits:\n",
        "    print('Sheesh, you really like grapes.')\n",
        "\n",
        "if 'kiwi' in favorite_fruits:\n",
        "    print('Sheesh, you really like kiwis.')"
      ],
      "metadata": {
        "colab": {
          "base_uri": "https://localhost:8080/"
        },
        "id": "UtCF9JV8nzKS",
        "outputId": "25dfc52a-a49f-46b7-d25e-48f760c8e692"
      },
      "execution_count": 2,
      "outputs": [
        {
          "output_type": "stream",
          "name": "stdout",
          "text": [
            "Sheesh, you really like bananas.\n",
            "Sheesh, you really like apples.\n",
            "Sheesh, you really like oranges.\n"
          ]
        }
      ]
    }
  ]
}