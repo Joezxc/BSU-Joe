{
  "nbformat": 4,
  "nbformat_minor": 0,
  "metadata": {
    "colab": {
      "provenance": [],
      "authorship_tag": "ABX9TyMuGyERhCSUZWa7B9zuQfGb",
      "include_colab_link": true
    },
    "kernelspec": {
      "name": "python3",
      "display_name": "Python 3"
    },
    "language_info": {
      "name": "python"
    }
  },
  "cells": [
    {
      "cell_type": "markdown",
      "metadata": {
        "id": "view-in-github",
        "colab_type": "text"
      },
      "source": [
        "<a href=\"https://colab.research.google.com/github/Joezxc/BSU-Joe/blob/main/Chapter_1_Exercises.ipynb\" target=\"_parent\"><img src=\"https://colab.research.google.com/assets/colab-badge.svg\" alt=\"Open In Colab\"/></a>"
      ]
    },
    {
      "cell_type": "code",
      "execution_count": null,
      "metadata": {
        "id": "ml3FhgG_BC4P"
      },
      "outputs": [],
      "source": [
        "# Exercise 1: Print Strings\n",
        "\n",
        "#Print the twink twinnkle little star song\n",
        "print('Twinkle, twinkle, little star,')\n",
        "print('How I wonder what you are!')\n",
        "print('Up above the world so high,')\n",
        "print('Like a diamond in the sky.')\n",
        "print('Twinkle, twinkle, little star,')\n",
        "print('How I wonder what you are.')"
      ]
    },
    {
      "cell_type": "code",
      "source": [
        "# Exercise 2: Print the Version of Python\n",
        "\n",
        "#Create a program to find the Phytion version you are using\n",
        "import sys \n",
        "\n",
        "#Print the phyton version and version info\n",
        "print(\"Phyton version\")\n",
        "print(sys.version)\n",
        "print(\"Version info.\")\n",
        "print (sys.version_info)"
      ],
      "metadata": {
        "colab": {
          "base_uri": "https://localhost:8080/"
        },
        "id": "YiYVXC_AB6N_",
        "outputId": "8f283a7c-4043-40d1-9ee3-37e75fcd5de0"
      },
      "execution_count": null,
      "outputs": [
        {
          "output_type": "stream",
          "name": "stdout",
          "text": [
            "Phyton version\n",
            "3.7.14 (default, Sep  8 2022, 00:06:44) \n",
            "[GCC 7.5.0]\n",
            "Version info.\n",
            "sys.version_info(major=3, minor=7, micro=14, releaselevel='final', serial=0)\n"
          ]
        }
      ]
    },
    {
      "cell_type": "code",
      "source": [
        "#Exercise 3: Print date and Time \n",
        "\n",
        "#Build a program that shows the current date and time\n",
        "from datetime import date\n",
        "\n",
        "today = date.today()\n",
        "print(\"Today's date:\", today)\n",
        "\n",
        "from datetime import date\n",
        "\n",
        "today = date.today()\n",
        "\n",
        "#Print the results\n",
        "\n",
        "# mm/dd/Yy\n",
        "d1 = today.strftime(\"%m/%d/%Y\")\n",
        "print(\"d1 =\", d1)\n",
        "\n",
        "# Textual month, day and year\n",
        "d2 = today.strftime(\"%B %d %Y\")\n",
        "print(\"d2 =\" , d2)\n",
        "\n",
        "# mm/dd/YY\n",
        "d3 = today.strftime(\"%m/%d/%Y\")\n",
        "print(\"d3 =\" , d3)"
      ],
      "metadata": {
        "colab": {
          "base_uri": "https://localhost:8080/"
        },
        "id": "6IZWaXjjCnmt",
        "outputId": "8d61cbf7-3b0a-4bd3-cc7e-cef0fe61993c"
      },
      "execution_count": null,
      "outputs": [
        {
          "output_type": "stream",
          "name": "stdout",
          "text": [
            "Today's date: 2022-10-11\n",
            "d1 = 10/11/2022\n",
            "d2 = October 11 2022\n",
            "d3 = 10/11/2022\n"
          ]
        }
      ]
    },
    {
      "cell_type": "code",
      "source": [
        "# Exercise 4: Strings Concatination\n",
        "first_name = \"Eljoe\"\n",
        "last_name = \"Narito\"\n",
        "full_name = first_name + \" \" + last_name\n",
        "# print(full_name)\n",
        "# print(first_name + 3) error\n",
        "# print(first_name + \"3\") no error\n",
        "# print(first name + str(3)) # no error\n",
        "print(first_name * 3)"
      ],
      "metadata": {
        "id": "h573OC7-C2hy"
      },
      "execution_count": null,
      "outputs": []
    },
    {
      "cell_type": "code",
      "source": [
        "#Exercise 5: Compute area of Circle\n",
        "\n",
        "#Assign a value to the variables\n",
        "radius = 5\n",
        "pi = 3.14\n",
        "area = pi *radius**2 \n",
        "\n",
        "#Print the results\n",
        "print(area)\n",
        "78.5\n",
        "r = int(input(\"input radius: \"))\n",
        "pi = 3.14\n",
        "area = pi *r**2 \n",
        "print(area)\n",
        "PI = 3.142\n",
        "r = float (input(\"Input the radius of circle : \"))\n",
        "print (\"The area of circle with radius \" + str(r) + \"i s:\" + str (pi *r**2))"
      ],
      "metadata": {
        "colab": {
          "base_uri": "https://localhost:8080/"
        },
        "id": "bAPMGu4ODEqj",
        "outputId": "e3ec9ba9-8ff4-4ada-8d11-2da6873002c5"
      },
      "execution_count": null,
      "outputs": [
        {
          "output_type": "stream",
          "name": "stdout",
          "text": [
            "78.5\n"
          ]
        }
      ]
    }
  ]
}