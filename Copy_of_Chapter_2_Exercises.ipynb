{
  "nbformat": 4,
  "nbformat_minor": 0,
  "metadata": {
    "colab": {
      "provenance": [],
      "authorship_tag": "ABX9TyOLNbgSXz9YHAOJnFIGRZLd",
      "include_colab_link": true
    },
    "kernelspec": {
      "name": "python3",
      "display_name": "Python 3"
    },
    "language_info": {
      "name": "python"
    }
  },
  "cells": [
    {
      "cell_type": "markdown",
      "metadata": {
        "id": "view-in-github",
        "colab_type": "text"
      },
      "source": [
        "<a href=\"https://colab.research.google.com/github/Joezxc/BSU-Joe/blob/main/Copy_of_Chapter_2_Exercises.ipynb\" target=\"_parent\"><img src=\"https://colab.research.google.com/assets/colab-badge.svg\" alt=\"Open In Colab\"/></a>"
      ]
    },
    {
      "cell_type": "code",
      "source": [
        "#Exercise 1: Variables\n",
        "a = 'Im your classmate Joe'\n",
        "print(a)\n",
        "a = 'Glad to meet you'\n",
        "print(a)"
      ],
      "metadata": {
        "colab": {
          "base_uri": "https://localhost:8080/"
        },
        "id": "gknk1HsU6sns",
        "outputId": "161a4700-7cbc-463a-ddf2-9f3dd9b7c249"
      },
      "execution_count": null,
      "outputs": [
        {
          "output_type": "stream",
          "name": "stdout",
          "text": [
            "Im your classmate Joe\n",
            "Glad to meet you\n"
          ]
        }
      ]
    },
    {
      "cell_type": "code",
      "source": [
        "#Exercise 2: Variables\n",
        "a = 'Bill Keane once said, “Yesterday is history, tomorrow is a mystery, today is a gift of God, which is why we call it the present.”'\n",
        "print(a)\n"
      ],
      "metadata": {
        "colab": {
          "base_uri": "https://localhost:8080/"
        },
        "id": "y1c_nBtV7-5e",
        "outputId": "1e6fd753-3e4d-4405-adb9-13ac3d3c41ae"
      },
      "execution_count": null,
      "outputs": [
        {
          "output_type": "stream",
          "name": "stdout",
          "text": [
            "Bill Keane once said, “Yesterday is history, tomorrow is a mystery, today is a gift of God, which is why we call it the present.”\n"
          ]
        }
      ]
    },
    {
      "cell_type": "code",
      "execution_count": null,
      "metadata": {
        "colab": {
          "base_uri": "https://localhost:8080/"
        },
        "id": "-M7-tzM05uJf",
        "outputId": "a52cf021-62b0-4888-b9bc-777742256631"
      },
      "outputs": [
        {
          "output_type": "stream",
          "name": "stdout",
          "text": [
            "   Eljoe\n",
            "Eljoe\n"
          ]
        }
      ],
      "source": [
        "#Exerise 3: Stripping Names\n",
        "\n",
        "word='   Eljoe'\n",
        "new_word=word.lstrip()\n",
        "print(word)\n",
        "print(new_word)"
      ]
    },
    {
      "cell_type": "code",
      "source": [
        "#Exercise 4: Favorite Number\n",
        "favoritenumber =18\n",
        "print('My favorite number is: 18')"
      ],
      "metadata": {
        "colab": {
          "base_uri": "https://localhost:8080/"
        },
        "id": "0R2cRXLU7-zs",
        "outputId": "e173ed7f-9552-450e-e86c-cfa9f02222e3"
      },
      "execution_count": null,
      "outputs": [
        {
          "output_type": "stream",
          "name": "stdout",
          "text": [
            "My favorite number is: 18\n"
          ]
        }
      ]
    },
    {
      "cell_type": "code",
      "source": [
        "#Exercise 5: USB Shoppe\n",
        "money= 50\n",
        "usb_sticks= 6\n",
        "amount= money//usb_sticks\n",
        "change= amount//usb_sticks*amount\n",
        "\n",
        "print(\"money:\", money)\n",
        "print(\"usb_sticks:\", usb_sticks)\n",
        "print(\"amount:\", amount)\n",
        "print(\"change:\", change)"
      ],
      "metadata": {
        "colab": {
          "base_uri": "https://localhost:8080/"
        },
        "id": "GwsR_wlH9Uck",
        "outputId": "eabc3517-8b48-4869-a2c3-36c891b4c946"
      },
      "execution_count": null,
      "outputs": [
        {
          "output_type": "stream",
          "name": "stdout",
          "text": [
            "money: 50\n",
            "usb_sticks: 6\n",
            "amount: 8\n",
            "change: 8\n"
          ]
        }
      ]
    }
  ]
}