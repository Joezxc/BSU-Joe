{
  "nbformat": 4,
  "nbformat_minor": 0,
  "metadata": {
    "colab": {
      "provenance": [],
      "collapsed_sections": [],
      "authorship_tag": "ABX9TyMC7dWtxCWT1bUKH1um1cVg",
      "include_colab_link": true
    },
    "kernelspec": {
      "name": "python3",
      "display_name": "Python 3"
    },
    "language_info": {
      "name": "python"
    }
  },
  "cells": [
    {
      "cell_type": "markdown",
      "metadata": {
        "id": "view-in-github",
        "colab_type": "text"
      },
      "source": [
        "<a href=\"https://colab.research.google.com/github/Joezxc/BSU-Joe/blob/main/Exercise_5_Compute_area_of_Circle.ipynb\" target=\"_parent\"><img src=\"https://colab.research.google.com/assets/colab-badge.svg\" alt=\"Open In Colab\"/></a>"
      ]
    },
    {
      "cell_type": "code",
      "execution_count": null,
      "metadata": {
        "colab": {
          "base_uri": "https://localhost:8080/"
        },
        "id": "ws2kCJ7O1M1k",
        "outputId": "904e42d4-a1af-457a-dabd-e5f6dd61393f"
      },
      "outputs": [
        {
          "output_type": "stream",
          "name": "stdout",
          "text": [
            "78.5\n"
          ]
        }
      ],
      "source": [
        "radius = 5\n",
        "pi = 3.14\n",
        "area = pi *radius**2 \n",
        "print(area)"
      ]
    },
    {
      "cell_type": "code",
      "source": [
        "r = int(input(\"input radius: \"))\n",
        "pi = 3.14\n",
        "area = pi *r**2 \n",
        "print(area)"
      ],
      "metadata": {
        "id": "8ARRFvkz1ofg"
      },
      "execution_count": null,
      "outputs": []
    },
    {
      "cell_type": "code",
      "source": [
        "PI = 3.142\n",
        "r = float (input(\"Input the radius of circle : \"))\n",
        "print (\"The area of circle with radius \" + str(r) + \"i s:\" + str (pi *r**2))"
      ],
      "metadata": {
        "id": "FaAXJlIHvqRJ"
      },
      "execution_count": null,
      "outputs": []
    }
  ]
}