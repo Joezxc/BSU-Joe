{
  "nbformat": 4,
  "nbformat_minor": 0,
  "metadata": {
    "colab": {
      "provenance": [],
      "collapsed_sections": [],
      "authorship_tag": "ABX9TyOpYB9oEzPqCWRgNed+3vXs",
      "include_colab_link": true
    },
    "kernelspec": {
      "name": "python3",
      "display_name": "Python 3"
    },
    "language_info": {
      "name": "python"
    }
  },
  "cells": [
    {
      "cell_type": "markdown",
      "metadata": {
        "id": "view-in-github",
        "colab_type": "text"
      },
      "source": [
        "<a href=\"https://colab.research.google.com/github/Joezxc/BSU-Joe/blob/main/Chapter_3_Exercises.ipynb\" target=\"_parent\"><img src=\"https://colab.research.google.com/assets/colab-badge.svg\" alt=\"Open In Colab\"/></a>"
      ]
    },
    {
      "cell_type": "code",
      "execution_count": null,
      "metadata": {
        "colab": {
          "base_uri": "https://localhost:8080/"
        },
        "id": "3xgP1U7z41xe",
        "outputId": "d3344039-0872-414c-e843-8ccea305b756"
      },
      "outputs": [
        {
          "output_type": "stream",
          "name": "stdout",
          "text": [
            "Renzie\n",
            "Krunch\n",
            "Rafael\n",
            "Charls\n",
            "Kristian\n"
          ]
        }
      ],
      "source": [
        "#Exercise 1: Names\n",
        "names = ['Renzie', 'Krunch', 'Rafael', 'Charls','Kristian']\n",
        "print (names[0])\n",
        "print (names[1])\n",
        "print (names[2])\n",
        "print (names[3])\n",
        "print (names[4])"
      ]
    },
    {
      "cell_type": "code",
      "source": [
        "#Exercise 2: Greetings\n",
        "names = ['Renzie', 'Krunch', 'Rafael', 'Charls','Kristian']\n",
        "print('Waddup ' + names[0] + ', Hit me up when you leave on your house.')\n",
        "print('Waddup ' + names[1] + ', Lets grab some coffee before 10:00am.')\n",
        "print('Waddup ' + names[2] + ', Whats good?')\n",
        "print('Waddup ' + names[0] + ', Have a safe trip to Philippines.')"
      ],
      "metadata": {
        "colab": {
          "base_uri": "https://localhost:8080/"
        },
        "id": "XryExbs6O7JY",
        "outputId": "23304422-cefe-4224-9f6a-1d8a48b7123a"
      },
      "execution_count": null,
      "outputs": [
        {
          "output_type": "stream",
          "name": "stdout",
          "text": [
            "Waddup Renzie, Hit me up when you leave on your house.\n",
            "Waddup Krunch, Lets grab some coffee before 10:00am.\n",
            "Waddup Rafael, Whats good?\n",
            "Waddup Renzie, Have a safe trip to Philippines.\n"
          ]
        }
      ]
    },
    {
      "cell_type": "code",
      "source": [
        "#Exercise 3: Your Own List \n",
        "names = ['Harley Davidson motorcycle' , 'Kia motorcycle' , 'Honda motorcycle']\n",
        "print(\"I would like to own a \" + names [0].title() + \"!\")\n",
        "print(\"I would like to own a \" + names [1].title() + \"!\")\n",
        "print(\"I would like to own a \" + names [2].title() + \"!\")"
      ],
      "metadata": {
        "colab": {
          "base_uri": "https://localhost:8080/"
        },
        "id": "99rIFUEqTZCF",
        "outputId": "fa09ca4f-4bc1-481f-8a97-f3d8f8fba9ba"
      },
      "execution_count": null,
      "outputs": [
        {
          "output_type": "stream",
          "name": "stdout",
          "text": [
            "I would like to own a Harley Davidson Motorcycle!\n",
            "I would like to own a Kia Motorcycle!\n",
            "I would like to own a Honda Motorcycle!\n"
          ]
        }
      ]
    },
    {
      "cell_type": "code",
      "source": [
        "#Exercise 4: Guest List\n",
        "guest_list = ['Carlo', 'Adrienne', 'Mark', 'Jhon']\n",
        "\n",
        "print('Hi ' + guest_list[0] +', I would like you for dinner at my house tomorrow')\n",
        "print('Hi ' + guest_list[1] +', I would like you for dinner at my house tomorrow')\n",
        "print('Hi ' + guest_list[2] +', I would like you for dinner at my house tomorrow')\n",
        "print('Hi ' + guest_list[3] +', I would like you for dinner at my house tomorrow')"
      ],
      "metadata": {
        "id": "QPyRMSTlXjbV",
        "colab": {
          "base_uri": "https://localhost:8080/"
        },
        "outputId": "8f4afc9d-dde3-4a79-fac3-f03addb982af"
      },
      "execution_count": null,
      "outputs": [
        {
          "output_type": "stream",
          "name": "stdout",
          "text": [
            "Hi Carlo, I would like you for dinner at my house tomorrow\n",
            "Hi Adrienne, I would like you for dinner at my house tomorrow\n",
            "Hi Mark, I would like you for dinner at my house tomorrow\n",
            "Hi Jhon, I would like you for dinner at my house tomorrow\n"
          ]
        }
      ]
    },
    {
      "cell_type": "code",
      "source": [
        "#Exercise 5: Change Guest List \n",
        "guest_list = ['Carlo', 'Adrienne', 'Mark', 'Jhon']\n",
        "print('I heard that ' + guest_list[2] + \" you wouldnt be able to make it\")\n",
        "guest_list[2] = 'Jabez'\n",
        "print(guest_list)\n",
        "\n",
        "print('Hi again ' + guest_list[0] + ', You are invited for dinner at my house.')\n",
        "print('Hi again ' + guest_list[1] + ', You are invited for dinner at my house.')\n",
        "print('Hi again ' + guest_list[2] + ', You are invited for dinner at my house.')\n",
        "print('Hi again ' + guest_list[3] + ', You are invited for dinner at my house.')"
      ],
      "metadata": {
        "colab": {
          "base_uri": "https://localhost:8080/"
        },
        "id": "mLmNR-jcWPJH",
        "outputId": "193c8771-da09-4ce6-dfd0-6a810a0c547a"
      },
      "execution_count": null,
      "outputs": [
        {
          "output_type": "stream",
          "name": "stdout",
          "text": [
            "I heard that Mark you wouldnt be able to make it\n",
            "['Carlo', 'Adrienne', 'Jabez', 'Jhon']\n",
            "Hi again Carlo, You are invited for dinner at my house.\n",
            "Hi again Adrienne, You are invited for dinner at my house.\n",
            "Hi again Jabez, You are invited for dinner at my house.\n",
            "Hi again Jhon, You are invited for dinner at my house.\n"
          ]
        }
      ]
    },
    {
      "cell_type": "code",
      "source": [
        "#Exercise 6: Shrinking Guest List\n",
        "nba_stars = ['Giannis', 'Luka', 'LeBron', 'Stephen', 'Kevin']\n",
        "print('Bad news boys, I can only invite three people for dinner')\n",
        "print(\"I'm really sorry, bro\" + nba_stars[3] + ', You are not invited my friend.')\n",
        "nba_stars.pop(3)\n",
        "print(nba_stars)\n",
        "print(\"I'm really sorry, bro\" + nba_stars[1] + ', You are not invited my friend.')\n",
        "nba_stars.pop(1)\n",
        "print(nba_stars)\n",
        "print(\"Hello bro\" + nba_stars[0] + ', You are still invited, dont worry. ')\n",
        "print(\"Hello bro\" + nba_stars[1] + ', You are still invited, dont worry.')\n",
        "del nba_stars[:]\n",
        "print('Nba Stars: ', nba_stars)"
      ],
      "metadata": {
        "colab": {
          "base_uri": "https://localhost:8080/"
        },
        "id": "cbIWqls0eWlw",
        "outputId": "25487bc3-0a90-4a7e-fb3d-33b3bb6a31b2"
      },
      "execution_count": null,
      "outputs": [
        {
          "output_type": "stream",
          "name": "stdout",
          "text": [
            "Bad news boys, I can only invite three people for dinner\n",
            "I'm really sorry, broStephen, You are not invited my friend.\n",
            "['Giannis', 'Luka', 'LeBron', 'Kevin']\n",
            "I'm really sorry, broLuka, You are not invited my friend.\n",
            "['Giannis', 'LeBron', 'Kevin']\n",
            "Hello broGiannis, You are still invited, dont worry. \n",
            "Hello broLeBron, You are still invited, dont worry.\n",
            "Nba Stars:  []\n"
          ]
        }
      ]
    },
    {
      "cell_type": "code",
      "source": [
        "#Exercise 7: Seeing the World\n",
        "countries =['Japan', 'United States', 'United Kingdom', 'Canada', 'France']\n",
        "print(countries)\n",
        "print('\\n')\n",
        "\n",
        "print(sorted(countries))\n",
        "print(countries)\n",
        "\n",
        "print('\\n')\n",
        "\n",
        "print(sorted(countries, reverse=True))\n",
        "print(countries)\n",
        "\n",
        "print(countries)\n",
        "\n",
        "print('\\n')\n",
        "countries = list(reversed(countries))\n",
        "print(countries)\n",
        "\n",
        "print('\\n')\n",
        "\n",
        "countries.sort()\n",
        "print(countries)\n",
        "\n",
        "countries.sort(reverse=True)\n",
        "print(countries)\n"
      ],
      "metadata": {
        "colab": {
          "base_uri": "https://localhost:8080/"
        },
        "id": "0iUMK5oGUh7t",
        "outputId": "1eece921-a94a-45f0-cbb4-c3fa22b63572"
      },
      "execution_count": null,
      "outputs": [
        {
          "output_type": "stream",
          "name": "stdout",
          "text": [
            "['Japan', 'United States', 'United Kingdom', 'Canada', 'France']\n",
            "\n",
            "\n",
            "['Canada', 'France', 'Japan', 'United Kingdom', 'United States']\n",
            "['Japan', 'United States', 'United Kingdom', 'Canada', 'France']\n",
            "\n",
            "\n",
            "['United States', 'United Kingdom', 'Japan', 'France', 'Canada']\n",
            "['Japan', 'United States', 'United Kingdom', 'Canada', 'France']\n",
            "['Japan', 'United States', 'United Kingdom', 'Canada', 'France']\n",
            "\n",
            "\n",
            "['France', 'Canada', 'United Kingdom', 'United States', 'Japan']\n",
            "\n",
            "\n",
            "['Canada', 'France', 'Japan', 'United Kingdom', 'United States']\n",
            "['United States', 'United Kingdom', 'Japan', 'France', 'Canada']\n"
          ]
        }
      ]
    }
  ]
}