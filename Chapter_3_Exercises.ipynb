{
  "nbformat": 4,
  "nbformat_minor": 0,
  "metadata": {
    "colab": {
      "provenance": [],
      "collapsed_sections": [],
      "authorship_tag": "ABX9TyP970FzTbzaujLbK7u5DXMd",
      "include_colab_link": true
    },
    "kernelspec": {
      "name": "python3",
      "display_name": "Python 3"
    },
    "language_info": {
      "name": "python"
    }
  },
  "cells": [
    {
      "cell_type": "markdown",
      "metadata": {
        "id": "view-in-github",
        "colab_type": "text"
      },
      "source": [
        "<a href=\"https://colab.research.google.com/github/Joezxc/BSU-Joe/blob/main/Chapter_3_Exercises.ipynb\" target=\"_parent\"><img src=\"https://colab.research.google.com/assets/colab-badge.svg\" alt=\"Open In Colab\"/></a>"
      ]
    },
    {
      "cell_type": "code",
      "execution_count": null,
      "metadata": {
        "colab": {
          "base_uri": "https://localhost:8080/"
        },
        "id": "3xgP1U7z41xe",
        "outputId": "d3344039-0872-414c-e843-8ccea305b756"
      },
      "outputs": [
        {
          "output_type": "stream",
          "name": "stdout",
          "text": [
            "Renzie\n",
            "Krunch\n",
            "Rafael\n",
            "Charls\n",
            "Kristian\n"
          ]
        }
      ],
      "source": [
        "#Exercise 1: Names\n",
        "\n",
        "#Make a list of names of your friends\n",
        "names = ['Renzie', 'Krunch', 'Rafael', 'Charls','Kristian']\n",
        "\n",
        "#Print the list of names of your friends\n",
        "print (names[0])\n",
        "print (names[1])\n",
        "print (names[2])\n",
        "print (names[3])\n",
        "print (names[4])"
      ]
    },
    {
      "cell_type": "code",
      "source": [
        "#Exercise 2: Greetings\n",
        "\n",
        "#Make a list of names of your friends\n",
        "names = ['Renzie', 'Krunch', 'Rafael', 'Charls','Kristian']\n",
        "\n",
        "#Print your message to them\n",
        "print('Waddup ' + names[0] + ', Hit me up when you leave on your house.')\n",
        "print('Waddup ' + names[1] + ', Lets grab some coffee before 10:00am.')\n",
        "print('Waddup ' + names[2] + ', Whats good?')\n",
        "print('Waddup ' + names[0] + ', Have a safe trip to Philippines.')"
      ],
      "metadata": {
        "colab": {
          "base_uri": "https://localhost:8080/"
        },
        "id": "XryExbs6O7JY",
        "outputId": "23304422-cefe-4224-9f6a-1d8a48b7123a"
      },
      "execution_count": null,
      "outputs": [
        {
          "output_type": "stream",
          "name": "stdout",
          "text": [
            "Waddup Renzie, Hit me up when you leave on your house.\n",
            "Waddup Krunch, Lets grab some coffee before 10:00am.\n",
            "Waddup Rafael, Whats good?\n",
            "Waddup Renzie, Have a safe trip to Philippines.\n"
          ]
        }
      ]
    },
    {
      "cell_type": "code",
      "source": [
        "#Exercise 3: Your Own List \n",
        "\n",
        "#Create a list of your own favorite motorcycle\n",
        "names = ['Harley Davidson motorcycle' , 'Kia motorcycle' , 'Honda motorcycle']\n",
        "\n",
        "#Print a message that shows you would like to own it\n",
        "print(\"I would like to own a \" + names [0].title() + \"!\")\n",
        "print(\"I would like to own a \" + names [1].title() + \"!\")\n",
        "print(\"I would like to own a \" + names [2].title() + \"!\")"
      ],
      "metadata": {
        "colab": {
          "base_uri": "https://localhost:8080/"
        },
        "id": "99rIFUEqTZCF",
        "outputId": "fa09ca4f-4bc1-481f-8a97-f3d8f8fba9ba"
      },
      "execution_count": null,
      "outputs": [
        {
          "output_type": "stream",
          "name": "stdout",
          "text": [
            "I would like to own a Harley Davidson Motorcycle!\n",
            "I would like to own a Kia Motorcycle!\n",
            "I would like to own a Honda Motorcycle!\n"
          ]
        }
      ]
    },
    {
      "cell_type": "code",
      "source": [
        "#Exercise 4: Guest List\n",
        "\n",
        "#Make a guest list consists of your friends\n",
        "guest_list = ['Carlo', 'Adrienne', 'Mark', 'Jhon']\n",
        "\n",
        "#Print a message that you would like to invite them to your house\n",
        "print('Hi ' + guest_list[0] +', I would like you for dinner at my house tomorrow')\n",
        "print('Hi ' + guest_list[1] +', I would like you for dinner at my house tomorrow')\n",
        "print('Hi ' + guest_list[2] +', I would like you for dinner at my house tomorrow')\n",
        "print('Hi ' + guest_list[3] +', I would like you for dinner at my house tomorrow')"
      ],
      "metadata": {
        "id": "QPyRMSTlXjbV",
        "colab": {
          "base_uri": "https://localhost:8080/"
        },
        "outputId": "8f4afc9d-dde3-4a79-fac3-f03addb982af"
      },
      "execution_count": null,
      "outputs": [
        {
          "output_type": "stream",
          "name": "stdout",
          "text": [
            "Hi Carlo, I would like you for dinner at my house tomorrow\n",
            "Hi Adrienne, I would like you for dinner at my house tomorrow\n",
            "Hi Mark, I would like you for dinner at my house tomorrow\n",
            "Hi Jhon, I would like you for dinner at my house tomorrow\n"
          ]
        }
      ]
    },
    {
      "cell_type": "code",
      "source": [
        "#Exercise 5: Change Guest List \n",
        "\n",
        "#Make a guest list consists of your friends\n",
        "guest_list = ['Carlo', 'Adrienne', 'Mark', 'Jhon']\n",
        "\n",
        "#Revise your list, replacing the name of the guest who can’t make it \n",
        "print('I heard that ' + guest_list[2] + \" you wouldnt be able to make it\")\n",
        "guest_list[2] = 'Jabez'\n",
        "print(guest_list)\n",
        "\n",
        "#Print the invitation again\n",
        "print('Hi again ' + guest_list[0] + ', You are invited for dinner at my house.')\n",
        "print('Hi again ' + guest_list[1] + ', You are invited for dinner at my house.')\n",
        "print('Hi again ' + guest_list[2] + ', You are invited for dinner at my house.')\n",
        "print('Hi again ' + guest_list[3] + ', You are invited for dinner at my house.')"
      ],
      "metadata": {
        "colab": {
          "base_uri": "https://localhost:8080/"
        },
        "id": "mLmNR-jcWPJH",
        "outputId": "193c8771-da09-4ce6-dfd0-6a810a0c547a"
      },
      "execution_count": null,
      "outputs": [
        {
          "output_type": "stream",
          "name": "stdout",
          "text": [
            "I heard that Mark you wouldnt be able to make it\n",
            "['Carlo', 'Adrienne', 'Jabez', 'Jhon']\n",
            "Hi again Carlo, You are invited for dinner at my house.\n",
            "Hi again Adrienne, You are invited for dinner at my house.\n",
            "Hi again Jabez, You are invited for dinner at my house.\n",
            "Hi again Jhon, You are invited for dinner at my house.\n"
          ]
        }
      ]
    },
    {
      "cell_type": "code",
      "source": [
        "#Exercise 6: Shrinking Guest List\n",
        "\n",
        "#Make a guest list consists of your friends\n",
        "guest_list = ['Joel', 'Joe', 'Jeo', 'Joey']   \n",
        "print('Im sorry dudes, I only can invite two people for dinner....')  \n",
        "\n",
        "#Use pop() to remove guests from your list  \n",
        "print('Im really sorry, dude ' +\n",
        "      guest_list[3] + ', You are not invited for dinner.')                  \n",
        "guest_list.pop(3)                                                     \n",
        "print(guest_list)\n",
        "\n",
        "print('Im really sorry, dude ' +\n",
        "      guest_list[1] + ', You are not invited for dinner.')\n",
        "guest_list.pop(1)                                                    \n",
        "print(guest_list)\n",
        "\n",
        "#Print a message to the other people, let them know that they are still invited\n",
        "print('Dude ' + guest_list[0] + ', you are still invited for dinner.')   \n",
        "print('Dude ' + guest_list[1] + ', you are still invited for dinner.')\n",
        "\n",
        "#Apply del to remove the last two names from your list\n",
        "del guest_list[:]                                                     \n",
        "print('Guest List: ', guest_list)                "
      ],
      "metadata": {
        "colab": {
          "base_uri": "https://localhost:8080/"
        },
        "id": "cbIWqls0eWlw",
        "outputId": "b2568b0d-06b9-4452-bb69-b5f2b786b6ea"
      },
      "execution_count": 4,
      "outputs": [
        {
          "output_type": "stream",
          "name": "stdout",
          "text": [
            "Im sorry dudes, I only can invite two people for dinner....\n",
            "Im really sorry, dude Joey, You are not invited for dinner.\n",
            "['Joel', 'Joe', 'Jeo']\n",
            "Im really sorry, dude Joe, You are not invited for dinner.\n",
            "['Joel', 'Jeo']\n",
            "Dude Joel, you are still invited for dinner.\n",
            "Dude Jeo, you are still invited for dinner.\n",
            "Guest List:  []\n"
          ]
        }
      ]
    },
    {
      "cell_type": "code",
      "source": [
        "#Exercise 7: Seeing the World\n",
        "\n",
        "#Make a list of countries you would like to visit\n",
        "countries =['Japan', 'United States', 'United Kingdom', 'Canada', 'France']\n",
        "print(countries)\n",
        "print('\\n')\n",
        "\n",
        "#Use print sorted countries\n",
        "print(sorted(countries))\n",
        "print(countries)\n",
        "\n",
        "print('\\n')\n",
        "\n",
        "#Use print reverse true\n",
        "print(sorted(countries, reverse=True))\n",
        "print(countries)\n",
        "\n",
        "print(countries)\n",
        "\n",
        "print('\\n')\n",
        "countries = list(reversed(countries))\n",
        "print(countries)\n",
        "\n",
        "print('\\n')\n",
        "\n",
        "#Use countries.sort\n",
        "countries.sort()\n",
        "print(countries)\n",
        "\n",
        "#Use countries.sort reverse true\n",
        "countries.sort(reverse=True)\n",
        "print(countries)\n"
      ],
      "metadata": {
        "colab": {
          "base_uri": "https://localhost:8080/"
        },
        "id": "0iUMK5oGUh7t",
        "outputId": "1eece921-a94a-45f0-cbb4-c3fa22b63572"
      },
      "execution_count": null,
      "outputs": [
        {
          "output_type": "stream",
          "name": "stdout",
          "text": [
            "['Japan', 'United States', 'United Kingdom', 'Canada', 'France']\n",
            "\n",
            "\n",
            "['Canada', 'France', 'Japan', 'United Kingdom', 'United States']\n",
            "['Japan', 'United States', 'United Kingdom', 'Canada', 'France']\n",
            "\n",
            "\n",
            "['United States', 'United Kingdom', 'Japan', 'France', 'Canada']\n",
            "['Japan', 'United States', 'United Kingdom', 'Canada', 'France']\n",
            "['Japan', 'United States', 'United Kingdom', 'Canada', 'France']\n",
            "\n",
            "\n",
            "['France', 'Canada', 'United Kingdom', 'United States', 'Japan']\n",
            "\n",
            "\n",
            "['Canada', 'France', 'Japan', 'United Kingdom', 'United States']\n",
            "['United States', 'United Kingdom', 'Japan', 'France', 'Canada']\n"
          ]
        }
      ]
    }
  ]
}