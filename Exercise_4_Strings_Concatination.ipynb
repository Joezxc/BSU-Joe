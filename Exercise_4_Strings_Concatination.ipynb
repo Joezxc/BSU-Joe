{
  "nbformat": 4,
  "nbformat_minor": 0,
  "metadata": {
    "colab": {
      "provenance": [],
      "authorship_tag": "ABX9TyP8MPpoIf4HIc86/5prFmj/",
      "include_colab_link": true
    },
    "kernelspec": {
      "name": "python3",
      "display_name": "Python 3"
    },
    "language_info": {
      "name": "python"
    }
  },
  "cells": [
    {
      "cell_type": "markdown",
      "metadata": {
        "id": "view-in-github",
        "colab_type": "text"
      },
      "source": [
        "<a href=\"https://colab.research.google.com/github/Joezxc/BSU-Joe/blob/main/Exercise_4_Strings_Concatination.ipynb\" target=\"_parent\"><img src=\"https://colab.research.google.com/assets/colab-badge.svg\" alt=\"Open In Colab\"/></a>"
      ]
    },
    {
      "cell_type": "code",
      "execution_count": 3,
      "metadata": {
        "colab": {
          "base_uri": "https://localhost:8080/"
        },
        "id": "mSfBkFYR2WYt",
        "outputId": "1b93f77d-c74b-4d1a-daa2-0a21fc1fe2b7"
      },
      "outputs": [
        {
          "output_type": "stream",
          "name": "stdout",
          "text": [
            "EljoeEljoeEljoe\n"
          ]
        }
      ],
      "source": [
        "first_name = \"Eljoe\"\n",
        "last_name = \"Narito\"\n",
        "full_name = first_name + \" \" + last_name\n",
        "# print(full_name)\n",
        "# print(first_name + 3) error\n",
        "# print(first_name + \"3\") no error\n",
        "# print(first name + str(3)) # no error\n",
        "print(first_name * 3)"
      ]
    }
  ]
}