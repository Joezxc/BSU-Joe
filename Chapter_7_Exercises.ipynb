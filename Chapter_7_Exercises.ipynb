{
  "nbformat": 4,
  "nbformat_minor": 0,
  "metadata": {
    "colab": {
      "provenance": [],
      "collapsed_sections": [],
      "authorship_tag": "ABX9TyNOBDchtOtTWaICicJkPrkj",
      "include_colab_link": true
    },
    "kernelspec": {
      "name": "python3",
      "display_name": "Python 3"
    },
    "language_info": {
      "name": "python"
    }
  },
  "cells": [
    {
      "cell_type": "markdown",
      "metadata": {
        "id": "view-in-github",
        "colab_type": "text"
      },
      "source": [
        "<a href=\"https://colab.research.google.com/github/Joezxc/BSU-Joe/blob/main/Chapter_7_Exercises.ipynb\" target=\"_parent\"><img src=\"https://colab.research.google.com/assets/colab-badge.svg\" alt=\"Open In Colab\"/></a>"
      ]
    },
    {
      "cell_type": "code",
      "execution_count": null,
      "metadata": {
        "colab": {
          "base_uri": "https://localhost:8080/"
        },
        "id": "u547uS0Yc8m8",
        "outputId": "39ea735a-4635-457c-85db-6c94e46a362b"
      },
      "outputs": [
        {
          "output_type": "stream",
          "name": "stdout",
          "text": [
            "Ayo, its ur boi Eljoe! I have learned a lot about phyton programming and im enjoying this course!\n"
          ]
        }
      ],
      "source": [
        "#Exercise 1: Message\n",
        "def greet_user(username):\n",
        "  print(f\"Ayo, its ur boi {username.title()}! I have learned a lot about phyton programming and im enjoying this course!\")\n",
        "greet_user('Eljoe')"
      ]
    },
    {
      "cell_type": "code",
      "source": [
        "#Exercise 2: Favorite Book\n",
        "def favorite_book(book):\n",
        "  print(f\"Hello, my favorite book is {book.title()}\")\n",
        "favorite_book('Wimpy Kid')"
      ],
      "metadata": {
        "colab": {
          "base_uri": "https://localhost:8080/"
        },
        "id": "noIEuMrBdvU7",
        "outputId": "efcc5278-065c-4280-eecb-5940ae4d72c6"
      },
      "execution_count": null,
      "outputs": [
        {
          "output_type": "stream",
          "name": "stdout",
          "text": [
            "Hello, my favorite book is Wimpy Kid\n"
          ]
        }
      ]
    },
    {
      "cell_type": "code",
      "source": [
        "#Exercise 3: T-Shirt \n",
        "def shirt_size(shirt):\n",
        "  print(f\"My t-shirt size is {shirt.title()}\")\n",
        "shirt_size('Medium')"
      ],
      "metadata": {
        "colab": {
          "base_uri": "https://localhost:8080/"
        },
        "id": "P4S_MvurfDHS",
        "outputId": "27838566-9ecd-418f-c57e-64df72bd6c0f"
      },
      "execution_count": null,
      "outputs": [
        {
          "output_type": "stream",
          "name": "stdout",
          "text": [
            "My t-shirt size is Medium\n"
          ]
        }
      ]
    },
    {
      "cell_type": "code",
      "source": [
        "#Exercise 4: Large Shirt\n",
        "def make_shirt(size,shirt,design):\n",
        "  print(f\"My t-shirt size is {size.title()} and I really enjoy {shirt.title()}, I love {design.title()}\")\n",
        "make_shirt(size='Large', shirt='programming', design='phyton')\n",
        "\n",
        "def make_shirt(size,shirt,design):\n",
        "  print(f\"My t-shirt size is {size.title()} and I would love to finish our course {shirt.title()}, I love {design.title()}\")\n",
        "make_shirt(size='Medium', shirt='programming', design='phyton')\n"
      ],
      "metadata": {
        "id": "bBkZ2g4KgpEP",
        "colab": {
          "base_uri": "https://localhost:8080/"
        },
        "outputId": "f893e9a8-e72e-4b05-b543-411ecfacbf54"
      },
      "execution_count": 10,
      "outputs": [
        {
          "output_type": "stream",
          "name": "stdout",
          "text": [
            "My t-shirt size is Large and I really enjoy Programming, I love Phyton\n",
            "My t-shirt size is Medium and I would love to finish our course Programming, I love Phyton\n"
          ]
        }
      ]
    },
    {
      "cell_type": "code",
      "source": [
        "#Exercise 5: Cities\n",
        "def  describe_city(city,country):\n",
        "  print(f\"The city name is {city.title()} and it is from {country}\")\n",
        "describe_city(city='Reykjavik', country = 'Iceland')\n",
        "def  describe_city(city,country):\n",
        "  print(f\"The city name is {city.title()} and it is from {country}\")\n",
        "describe_city(city='Berlin', country = 'Germany')\n",
        "def  describe_city(city,country):\n",
        "  print(f\"The city name is {city.title()} and it is from {country}\")\n",
        "describe_city(city='Barcelona', country = 'Spain')"
      ],
      "metadata": {
        "colab": {
          "base_uri": "https://localhost:8080/"
        },
        "id": "deRylCzGgw7y",
        "outputId": "ae4cce21-a09d-49d2-b87e-369ddf1a78c6"
      },
      "execution_count": null,
      "outputs": [
        {
          "output_type": "stream",
          "name": "stdout",
          "text": [
            "The city name is Reykjavik and it is from Iceland\n",
            "The city name is Berlin and it is from Germany\n",
            "The city name is Barcelona and it is from Spain\n"
          ]
        }
      ]
    }
  ]
}