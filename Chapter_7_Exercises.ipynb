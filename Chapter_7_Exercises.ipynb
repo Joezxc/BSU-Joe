{
  "nbformat": 4,
  "nbformat_minor": 0,
  "metadata": {
    "colab": {
      "provenance": [],
      "collapsed_sections": [],
      "authorship_tag": "ABX9TyP9cseIHX7fwjmts8lSHKKv",
      "include_colab_link": true
    },
    "kernelspec": {
      "name": "python3",
      "display_name": "Python 3"
    },
    "language_info": {
      "name": "python"
    }
  },
  "cells": [
    {
      "cell_type": "markdown",
      "metadata": {
        "id": "view-in-github",
        "colab_type": "text"
      },
      "source": [
        "<a href=\"https://colab.research.google.com/github/Joezxc/BSU-Joe/blob/main/Chapter_7_Exercises.ipynb\" target=\"_parent\"><img src=\"https://colab.research.google.com/assets/colab-badge.svg\" alt=\"Open In Colab\"/></a>"
      ]
    },
    {
      "cell_type": "code",
      "execution_count": 18,
      "metadata": {
        "colab": {
          "base_uri": "https://localhost:8080/"
        },
        "id": "u547uS0Yc8m8",
        "outputId": "04135e20-c723-4675-c936-9e57a06137da"
      },
      "outputs": [
        {
          "output_type": "stream",
          "name": "stdout",
          "text": [
            "Hello, I'm Eljoe! I have learned a lot about phyton programming and im enjoying this course!\n"
          ]
        }
      ],
      "source": [
        "#Exercise 1: Message\n",
        "def display_message(username): #This your function, display_message and username\n",
        "  print(f\"Hello, I'm {username.title()}! I have learned a lot about phyton programming and im enjoying this course!\") #Write your own sentence and print the username.title\n",
        "display_message('Eljoe') #Make your own display_message"
      ]
    },
    {
      "cell_type": "code",
      "source": [
        "#Exercise 2: Favorite Book\n",
        "def favorite_book(book): #This is your function, favorite_book and book\n",
        "  print(f\"Hello, my favorite book is {book.title()}\") #Write your own sentence and print the book.title\n",
        "favorite_book('Wimpy Kid') #Choose your favorite book and put it on the function favorite_book"
      ],
      "metadata": {
        "colab": {
          "base_uri": "https://localhost:8080/"
        },
        "id": "noIEuMrBdvU7",
        "outputId": "efcc5278-065c-4280-eecb-5940ae4d72c6"
      },
      "execution_count": null,
      "outputs": [
        {
          "output_type": "stream",
          "name": "stdout",
          "text": [
            "Hello, my favorite book is Wimpy Kid\n"
          ]
        }
      ]
    },
    {
      "cell_type": "code",
      "source": [
        "#Exercise 3: T-Shirt \n",
        "def make_shirt(size,message): #This is your function, make_shirt\n",
        "  print(f\"\\nMy t-shirt size is {size} and the shirt message is {message.upper()}\") #Print the shirt size and message\n",
        "make_shirt(38,'health is wealth') #Make your own shirt message and size"
      ],
      "metadata": {
        "colab": {
          "base_uri": "https://localhost:8080/"
        },
        "id": "P4S_MvurfDHS",
        "outputId": "8a06329a-f4e1-4fde-dd58-fc632dd2f673"
      },
      "execution_count": 6,
      "outputs": [
        {
          "output_type": "stream",
          "name": "stdout",
          "text": [
            "\n",
            "My t-shirt size is 38 and the shirt message is HEALTH IS WEALTH\n"
          ]
        }
      ]
    },
    {
      "cell_type": "code",
      "source": [
        "#Exercise 4: Large Shirt\n",
        "def make_shirt(size='Large' ,message='I love Phyton'): #This is your function make_shirt and make sure the size is 'large' and make sure the message is 'I love Phyton'\n",
        "  print(f\"\\n My t-shirt size is {size} and the shirt message is {message.upper()}\") #Print your size and message.upper\n",
        "\n",
        "make_shirt() #Make a shirt with the size of medium & large with message that indicates I love Phyton\n",
        "make_shirt(size='Medium & Large') \n",
        "make_shirt(size='XL',message='Coding is everything'.upper()) #Make also a XL size shirt with a default message\n"
      ],
      "metadata": {
        "id": "bBkZ2g4KgpEP",
        "colab": {
          "base_uri": "https://localhost:8080/"
        },
        "outputId": "b4cf2bf6-356d-4311-8081-1be7fd300573"
      },
      "execution_count": 19,
      "outputs": [
        {
          "output_type": "stream",
          "name": "stdout",
          "text": [
            "\n",
            " My t-shirt size is Large and the shirt message is I LOVE PHYTON\n",
            "\n",
            " My t-shirt size is Medium & Large and the shirt message is I LOVE PHYTON\n",
            "\n",
            " My t-shirt size is XL and the shirt message is CODING IS EVERYTHING\n"
          ]
        }
      ]
    },
    {
      "cell_type": "code",
      "source": [
        "#Exercise 5: Cities\n",
        "def  describe_city(city,country='Australia'): #This is your describe_city that contains also your city and country\n",
        " print(f'\\n{city.title()} and it is from {country.title()}') #Print your city.title and country.title\n",
        "#Name 3 cities you want to input\n",
        "describe_city('melbourne')\n",
        "describe_city('reykjavik', 'iceland')\n",
        "describe_city('sydney')"
      ],
      "metadata": {
        "colab": {
          "base_uri": "https://localhost:8080/"
        },
        "id": "deRylCzGgw7y",
        "outputId": "7916ea81-33ee-4c60-b1a1-ab7afbc922a9"
      },
      "execution_count": 14,
      "outputs": [
        {
          "output_type": "stream",
          "name": "stdout",
          "text": [
            "\n",
            "Melbourne and it is from Australia\n",
            "\n",
            "Reykjavik and it is from Iceland\n",
            "\n",
            "Sydney and it is from Australia\n"
          ]
        }
      ]
    }
  ]
}