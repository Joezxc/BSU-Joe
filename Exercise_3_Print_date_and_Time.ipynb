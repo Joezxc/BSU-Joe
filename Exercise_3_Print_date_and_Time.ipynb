{
  "nbformat": 4,
  "nbformat_minor": 0,
  "metadata": {
    "colab": {
      "provenance": [],
      "authorship_tag": "ABX9TyN55CPEQdidzBT8aK6RNZ10",
      "include_colab_link": true
    },
    "kernelspec": {
      "name": "python3",
      "display_name": "Python 3"
    },
    "language_info": {
      "name": "python"
    }
  },
  "cells": [
    {
      "cell_type": "markdown",
      "metadata": {
        "id": "view-in-github",
        "colab_type": "text"
      },
      "source": [
        "<a href=\"https://colab.research.google.com/github/Joezxc/BSU-Joe/blob/main/Exercise_3_Print_date_and_Time.ipynb\" target=\"_parent\"><img src=\"https://colab.research.google.com/assets/colab-badge.svg\" alt=\"Open In Colab\"/></a>"
      ]
    },
    {
      "cell_type": "code",
      "execution_count": 1,
      "metadata": {
        "colab": {
          "base_uri": "https://localhost:8080/"
        },
        "id": "wRvAFJOnzGFb",
        "outputId": "15de82e6-d9a1-440b-f761-f4107a934a40"
      },
      "outputs": [
        {
          "output_type": "stream",
          "name": "stdout",
          "text": [
            "Today's date: 2022-10-05\n"
          ]
        }
      ],
      "source": [
        "from datetime import date\n",
        "\n",
        "today = date.today()\n",
        "print(\"Today's date:\", today)"
      ]
    },
    {
      "cell_type": "code",
      "source": [
        "from datetime import date\n",
        "\n",
        "today = date.today()\n",
        "\n",
        "# mm/dd/Yy\n",
        "d1 = today.strftime(\"%m/%d/%Y\")\n",
        "print(\"d1 =\", d1)"
      ],
      "metadata": {
        "colab": {
          "base_uri": "https://localhost:8080/"
        },
        "id": "ZVgbmykLzJn7",
        "outputId": "b7bea627-de43-4791-efef-139c1f153b51"
      },
      "execution_count": 4,
      "outputs": [
        {
          "output_type": "stream",
          "name": "stdout",
          "text": [
            "d1 = 10/05/2022\n"
          ]
        }
      ]
    },
    {
      "cell_type": "code",
      "source": [
        "# Textual month, day and year\n",
        "d2 = today.strftime(\"%B %d %Y\")\n",
        "print(\"d2 =\" , d2)"
      ],
      "metadata": {
        "id": "KuXW1NB6zWRR"
      },
      "execution_count": null,
      "outputs": []
    },
    {
      "cell_type": "code",
      "source": [
        "# mm/dd/YY\n",
        "d3 = today.strftime(\"%m/%d/%Y\")\n",
        "print(\"d3 =\" , d3)"
      ],
      "metadata": {
        "id": "8wWD45_QzfGy"
      },
      "execution_count": null,
      "outputs": []
    }
  ]
}