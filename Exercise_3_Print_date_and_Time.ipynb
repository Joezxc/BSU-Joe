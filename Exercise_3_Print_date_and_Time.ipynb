{
  "nbformat": 4,
  "nbformat_minor": 0,
  "metadata": {
    "colab": {
      "provenance": [],
      "authorship_tag": "ABX9TyPAk9IJ0h7utpOOgeb+4fzk",
      "include_colab_link": true
    },
    "kernelspec": {
      "name": "python3",
      "display_name": "Python 3"
    },
    "language_info": {
      "name": "python"
    }
  },
  "cells": [
    {
      "cell_type": "markdown",
      "metadata": {
        "id": "view-in-github",
        "colab_type": "text"
      },
      "source": [
        "<a href=\"https://colab.research.google.com/github/Joezxc/BSU-Joe/blob/main/Exercise_3_Print_date_and_Time.ipynb\" target=\"_parent\"><img src=\"https://colab.research.google.com/assets/colab-badge.svg\" alt=\"Open In Colab\"/></a>"
      ]
    },
    {
      "cell_type": "code",
      "execution_count": 8,
      "metadata": {
        "colab": {
          "base_uri": "https://localhost:8080/"
        },
        "id": "wRvAFJOnzGFb",
        "outputId": "cedefa8e-b893-40aa-d4c1-ca33906b3a38"
      },
      "outputs": [
        {
          "output_type": "stream",
          "name": "stdout",
          "text": [
            "Today's date: 2022-10-05\n",
            "d1 = 10/05/2022\n",
            "d2 = October 05 2022\n",
            "d3 = 10/05/2022\n"
          ]
        }
      ],
      "source": [
        "from datetime import date\n",
        "\n",
        "today = date.today()\n",
        "print(\"Today's date:\", today)\n",
        "\n",
        "from datetime import date\n",
        "\n",
        "today = date.today()\n",
        "\n",
        "# mm/dd/Yy\n",
        "d1 = today.strftime(\"%m/%d/%Y\")\n",
        "print(\"d1 =\", d1)\n",
        "\n",
        "# Textual month, day and year\n",
        "d2 = today.strftime(\"%B %d %Y\")\n",
        "print(\"d2 =\" , d2)\n",
        "\n",
        "# mm/dd/YY\n",
        "d3 = today.strftime(\"%m/%d/%Y\")\n",
        "print(\"d3 =\" , d3)"
      ]
    }
  ]
}